{
 "cells": [
  {
   "cell_type": "code",
   "execution_count": 251,
   "id": "d57f41c0",
   "metadata": {},
   "outputs": [],
   "source": [
    "import pandas as pd\n",
    "pd.set_option(\"display.max_columns\", None)"
   ]
  },
  {
   "cell_type": "code",
   "execution_count": 252,
   "id": "df145f21",
   "metadata": {},
   "outputs": [
    {
     "data": {
      "text/html": [
       "<div>\n",
       "<style scoped>\n",
       "    .dataframe tbody tr th:only-of-type {\n",
       "        vertical-align: middle;\n",
       "    }\n",
       "\n",
       "    .dataframe tbody tr th {\n",
       "        vertical-align: top;\n",
       "    }\n",
       "\n",
       "    .dataframe thead th {\n",
       "        text-align: right;\n",
       "    }\n",
       "</style>\n",
       "<table border=\"1\" class=\"dataframe\">\n",
       "  <thead>\n",
       "    <tr style=\"text-align: right;\">\n",
       "      <th></th>\n",
       "      <th>Unnamed: 0.2</th>\n",
       "      <th>Unnamed: 0</th>\n",
       "      <th>Unnamed: 0.1</th>\n",
       "      <th>YEAR</th>\n",
       "      <th>MONTH</th>\n",
       "      <th>DAY</th>\n",
       "      <th>DAY_OF_WEEK</th>\n",
       "      <th>AIRLINE</th>\n",
       "      <th>FLIGHT_NUMBER</th>\n",
       "      <th>TAIL_NUMBER</th>\n",
       "      <th>ORIGIN_AIRPORT</th>\n",
       "      <th>DESTINATION_AIRPORT</th>\n",
       "      <th>SCHEDULED_DEPARTURE</th>\n",
       "      <th>DEPARTURE_TIME</th>\n",
       "      <th>DEPARTURE_DELAY</th>\n",
       "      <th>TAXI_OUT</th>\n",
       "      <th>WHEELS_OFF</th>\n",
       "      <th>SCHEDULED_TIME</th>\n",
       "      <th>ELAPSED_TIME</th>\n",
       "      <th>AIR_TIME</th>\n",
       "      <th>DISTANCE</th>\n",
       "      <th>WHEELS_ON</th>\n",
       "      <th>TAXI_IN</th>\n",
       "      <th>SCHEDULED_ARRIVAL</th>\n",
       "      <th>ARRIVAL_TIME</th>\n",
       "      <th>ARRIVAL_DELAY</th>\n",
       "      <th>DIVERTED</th>\n",
       "      <th>CANCELLED</th>\n",
       "      <th>CANCELLATION_REASON</th>\n",
       "      <th>AIR_SYSTEM_DELAY</th>\n",
       "      <th>SECURITY_DELAY</th>\n",
       "      <th>AIRLINE_DELAY</th>\n",
       "      <th>LATE_AIRCRAFT_DELAY</th>\n",
       "      <th>WEATHER_DELAY</th>\n",
       "    </tr>\n",
       "  </thead>\n",
       "  <tbody>\n",
       "    <tr>\n",
       "      <th>0</th>\n",
       "      <td>0</td>\n",
       "      <td>363169</td>\n",
       "      <td>5290975</td>\n",
       "      <td>2015</td>\n",
       "      <td>11</td>\n",
       "      <td>28</td>\n",
       "      <td>6</td>\n",
       "      <td>DL</td>\n",
       "      <td>1590</td>\n",
       "      <td>N971AT</td>\n",
       "      <td>CAE</td>\n",
       "      <td>ATL</td>\n",
       "      <td>700</td>\n",
       "      <td>655.0</td>\n",
       "      <td>-5.0</td>\n",
       "      <td>17.0</td>\n",
       "      <td>712.0</td>\n",
       "      <td>68.0</td>\n",
       "      <td>61.0</td>\n",
       "      <td>39.0</td>\n",
       "      <td>192</td>\n",
       "      <td>751.0</td>\n",
       "      <td>5.0</td>\n",
       "      <td>808</td>\n",
       "      <td>756.0</td>\n",
       "      <td>-12.0</td>\n",
       "      <td>0</td>\n",
       "      <td>0</td>\n",
       "      <td>NaN</td>\n",
       "      <td>NaN</td>\n",
       "      <td>NaN</td>\n",
       "      <td>NaN</td>\n",
       "      <td>NaN</td>\n",
       "      <td>NaN</td>\n",
       "    </tr>\n",
       "    <tr>\n",
       "      <th>1</th>\n",
       "      <td>1</td>\n",
       "      <td>704061</td>\n",
       "      <td>4899614</td>\n",
       "      <td>2015</td>\n",
       "      <td>11</td>\n",
       "      <td>2</td>\n",
       "      <td>1</td>\n",
       "      <td>AA</td>\n",
       "      <td>2516</td>\n",
       "      <td>N3CVAA</td>\n",
       "      <td>ORD</td>\n",
       "      <td>DEN</td>\n",
       "      <td>1715</td>\n",
       "      <td>1743.0</td>\n",
       "      <td>28.0</td>\n",
       "      <td>40.0</td>\n",
       "      <td>1823.0</td>\n",
       "      <td>164.0</td>\n",
       "      <td>177.0</td>\n",
       "      <td>126.0</td>\n",
       "      <td>888</td>\n",
       "      <td>1929.0</td>\n",
       "      <td>11.0</td>\n",
       "      <td>1859</td>\n",
       "      <td>1940.0</td>\n",
       "      <td>41.0</td>\n",
       "      <td>0</td>\n",
       "      <td>0</td>\n",
       "      <td>NaN</td>\n",
       "      <td>13.0</td>\n",
       "      <td>0.0</td>\n",
       "      <td>28.0</td>\n",
       "      <td>0.0</td>\n",
       "      <td>0.0</td>\n",
       "    </tr>\n",
       "    <tr>\n",
       "      <th>2</th>\n",
       "      <td>2</td>\n",
       "      <td>389056</td>\n",
       "      <td>3769408</td>\n",
       "      <td>2015</td>\n",
       "      <td>8</td>\n",
       "      <td>22</td>\n",
       "      <td>6</td>\n",
       "      <td>AS</td>\n",
       "      <td>93</td>\n",
       "      <td>N317AS</td>\n",
       "      <td>SEA</td>\n",
       "      <td>ANC</td>\n",
       "      <td>1355</td>\n",
       "      <td>1353.0</td>\n",
       "      <td>-2.0</td>\n",
       "      <td>20.0</td>\n",
       "      <td>1413.0</td>\n",
       "      <td>220.0</td>\n",
       "      <td>206.0</td>\n",
       "      <td>182.0</td>\n",
       "      <td>1448</td>\n",
       "      <td>1615.0</td>\n",
       "      <td>4.0</td>\n",
       "      <td>1635</td>\n",
       "      <td>1619.0</td>\n",
       "      <td>-16.0</td>\n",
       "      <td>0</td>\n",
       "      <td>0</td>\n",
       "      <td>NaN</td>\n",
       "      <td>NaN</td>\n",
       "      <td>NaN</td>\n",
       "      <td>NaN</td>\n",
       "      <td>NaN</td>\n",
       "      <td>NaN</td>\n",
       "    </tr>\n",
       "    <tr>\n",
       "      <th>3</th>\n",
       "      <td>3</td>\n",
       "      <td>132167</td>\n",
       "      <td>4999624</td>\n",
       "      <td>2015</td>\n",
       "      <td>11</td>\n",
       "      <td>9</td>\n",
       "      <td>1</td>\n",
       "      <td>AA</td>\n",
       "      <td>2383</td>\n",
       "      <td>N871AA</td>\n",
       "      <td>MCO</td>\n",
       "      <td>DFW</td>\n",
       "      <td>650</td>\n",
       "      <td>652.0</td>\n",
       "      <td>2.0</td>\n",
       "      <td>16.0</td>\n",
       "      <td>708.0</td>\n",
       "      <td>181.0</td>\n",
       "      <td>172.0</td>\n",
       "      <td>142.0</td>\n",
       "      <td>985</td>\n",
       "      <td>830.0</td>\n",
       "      <td>14.0</td>\n",
       "      <td>851</td>\n",
       "      <td>844.0</td>\n",
       "      <td>-7.0</td>\n",
       "      <td>0</td>\n",
       "      <td>0</td>\n",
       "      <td>NaN</td>\n",
       "      <td>NaN</td>\n",
       "      <td>NaN</td>\n",
       "      <td>NaN</td>\n",
       "      <td>NaN</td>\n",
       "      <td>NaN</td>\n",
       "    </tr>\n",
       "    <tr>\n",
       "      <th>4</th>\n",
       "      <td>4</td>\n",
       "      <td>304371</td>\n",
       "      <td>2572568</td>\n",
       "      <td>2015</td>\n",
       "      <td>6</td>\n",
       "      <td>12</td>\n",
       "      <td>5</td>\n",
       "      <td>US</td>\n",
       "      <td>1978</td>\n",
       "      <td>N833AW</td>\n",
       "      <td>CLE</td>\n",
       "      <td>CLT</td>\n",
       "      <td>705</td>\n",
       "      <td>700.0</td>\n",
       "      <td>-5.0</td>\n",
       "      <td>12.0</td>\n",
       "      <td>712.0</td>\n",
       "      <td>93.0</td>\n",
       "      <td>92.0</td>\n",
       "      <td>71.0</td>\n",
       "      <td>430</td>\n",
       "      <td>823.0</td>\n",
       "      <td>9.0</td>\n",
       "      <td>838</td>\n",
       "      <td>832.0</td>\n",
       "      <td>-6.0</td>\n",
       "      <td>0</td>\n",
       "      <td>0</td>\n",
       "      <td>NaN</td>\n",
       "      <td>NaN</td>\n",
       "      <td>NaN</td>\n",
       "      <td>NaN</td>\n",
       "      <td>NaN</td>\n",
       "      <td>NaN</td>\n",
       "    </tr>\n",
       "  </tbody>\n",
       "</table>\n",
       "</div>"
      ],
      "text/plain": [
       "   Unnamed: 0.2  Unnamed: 0  Unnamed: 0.1  YEAR  MONTH  DAY  DAY_OF_WEEK  \\\n",
       "0             0      363169       5290975  2015     11   28            6   \n",
       "1             1      704061       4899614  2015     11    2            1   \n",
       "2             2      389056       3769408  2015      8   22            6   \n",
       "3             3      132167       4999624  2015     11    9            1   \n",
       "4             4      304371       2572568  2015      6   12            5   \n",
       "\n",
       "  AIRLINE  FLIGHT_NUMBER TAIL_NUMBER ORIGIN_AIRPORT DESTINATION_AIRPORT  \\\n",
       "0      DL           1590      N971AT            CAE                 ATL   \n",
       "1      AA           2516      N3CVAA            ORD                 DEN   \n",
       "2      AS             93      N317AS            SEA                 ANC   \n",
       "3      AA           2383      N871AA            MCO                 DFW   \n",
       "4      US           1978      N833AW            CLE                 CLT   \n",
       "\n",
       "   SCHEDULED_DEPARTURE  DEPARTURE_TIME  DEPARTURE_DELAY  TAXI_OUT  WHEELS_OFF  \\\n",
       "0                  700           655.0             -5.0      17.0       712.0   \n",
       "1                 1715          1743.0             28.0      40.0      1823.0   \n",
       "2                 1355          1353.0             -2.0      20.0      1413.0   \n",
       "3                  650           652.0              2.0      16.0       708.0   \n",
       "4                  705           700.0             -5.0      12.0       712.0   \n",
       "\n",
       "   SCHEDULED_TIME  ELAPSED_TIME  AIR_TIME  DISTANCE  WHEELS_ON  TAXI_IN  \\\n",
       "0            68.0          61.0      39.0       192      751.0      5.0   \n",
       "1           164.0         177.0     126.0       888     1929.0     11.0   \n",
       "2           220.0         206.0     182.0      1448     1615.0      4.0   \n",
       "3           181.0         172.0     142.0       985      830.0     14.0   \n",
       "4            93.0          92.0      71.0       430      823.0      9.0   \n",
       "\n",
       "   SCHEDULED_ARRIVAL  ARRIVAL_TIME  ARRIVAL_DELAY  DIVERTED  CANCELLED  \\\n",
       "0                808         756.0          -12.0         0          0   \n",
       "1               1859        1940.0           41.0         0          0   \n",
       "2               1635        1619.0          -16.0         0          0   \n",
       "3                851         844.0           -7.0         0          0   \n",
       "4                838         832.0           -6.0         0          0   \n",
       "\n",
       "  CANCELLATION_REASON  AIR_SYSTEM_DELAY  SECURITY_DELAY  AIRLINE_DELAY  \\\n",
       "0                 NaN               NaN             NaN            NaN   \n",
       "1                 NaN              13.0             0.0           28.0   \n",
       "2                 NaN               NaN             NaN            NaN   \n",
       "3                 NaN               NaN             NaN            NaN   \n",
       "4                 NaN               NaN             NaN            NaN   \n",
       "\n",
       "   LATE_AIRCRAFT_DELAY  WEATHER_DELAY  \n",
       "0                  NaN            NaN  \n",
       "1                  0.0            0.0  \n",
       "2                  NaN            NaN  \n",
       "3                  NaN            NaN  \n",
       "4                  NaN            NaN  "
      ]
     },
     "execution_count": 252,
     "metadata": {},
     "output_type": "execute_result"
    }
   ],
   "source": [
    "df = pd.read_csv('flights.csv')\n",
    "df.head()"
   ]
  },
  {
   "cell_type": "code",
   "execution_count": 253,
   "id": "c3c5d153",
   "metadata": {},
   "outputs": [
    {
     "name": "stdout",
     "output_type": "stream",
     "text": [
      "<class 'pandas.core.frame.DataFrame'>\n",
      "RangeIndex: 274964 entries, 0 to 274963\n",
      "Data columns (total 34 columns):\n",
      " #   Column               Non-Null Count   Dtype  \n",
      "---  ------               --------------   -----  \n",
      " 0   Unnamed: 0.2         274964 non-null  int64  \n",
      " 1   Unnamed: 0           274964 non-null  int64  \n",
      " 2   Unnamed: 0.1         274964 non-null  int64  \n",
      " 3   YEAR                 274964 non-null  int64  \n",
      " 4   MONTH                274964 non-null  int64  \n",
      " 5   DAY                  274964 non-null  int64  \n",
      " 6   DAY_OF_WEEK          274964 non-null  int64  \n",
      " 7   AIRLINE              274964 non-null  object \n",
      " 8   FLIGHT_NUMBER        274964 non-null  int64  \n",
      " 9   TAIL_NUMBER          274225 non-null  object \n",
      " 10  ORIGIN_AIRPORT       274964 non-null  object \n",
      " 11  DESTINATION_AIRPORT  274964 non-null  object \n",
      " 12  SCHEDULED_DEPARTURE  274964 non-null  int64  \n",
      " 13  DEPARTURE_TIME       270719 non-null  float64\n",
      " 14  DEPARTURE_DELAY      270719 non-null  float64\n",
      " 15  TAXI_OUT             270571 non-null  float64\n",
      " 16  WHEELS_OFF           270571 non-null  float64\n",
      " 17  SCHEDULED_TIME       274964 non-null  float64\n",
      " 18  ELAPSED_TIME         269773 non-null  float64\n",
      " 19  AIR_TIME             269773 non-null  float64\n",
      " 20  DISTANCE             274964 non-null  int64  \n",
      " 21  WHEELS_ON            270377 non-null  float64\n",
      " 22  TAXI_IN              270377 non-null  float64\n",
      " 23  SCHEDULED_ARRIVAL    274964 non-null  int64  \n",
      " 24  ARRIVAL_TIME         270377 non-null  float64\n",
      " 25  ARRIVAL_DELAY        269773 non-null  float64\n",
      " 26  DIVERTED             274964 non-null  int64  \n",
      " 27  CANCELLED            274964 non-null  int64  \n",
      " 28  CANCELLATION_REASON  4433 non-null    object \n",
      " 29  AIR_SYSTEM_DELAY     51863 non-null   float64\n",
      " 30  SECURITY_DELAY       51863 non-null   float64\n",
      " 31  AIRLINE_DELAY        51863 non-null   float64\n",
      " 32  LATE_AIRCRAFT_DELAY  51863 non-null   float64\n",
      " 33  WEATHER_DELAY        51863 non-null   float64\n",
      "dtypes: float64(16), int64(13), object(5)\n",
      "memory usage: 71.3+ MB\n"
     ]
    }
   ],
   "source": [
    "df.info()"
   ]
  },
  {
   "cell_type": "markdown",
   "id": "9d059a01",
   "metadata": {},
   "source": [
    "> We notice that there are many columns we need to edit.\n",
    ">\n",
    "> 1. There are 3 Unnamed columns we need to drop.\n",
    ">\n",
    ">\n",
    "> 2. There are many Null values here. The last 6 columns have many Null values but we need from them the:\n",
    ">  * `CANCELLATION_REASON`. So, we will will try to replace the Null with readable value. \n",
    ">\n",
    ">\n",
    "> 3. * `SCHEDULED_DEPARTURE`, `DEPARTURE_TIME`, `SCHEDULED_TIME`, `ELAPSED_TIME`, `AIR_TIME`, `SCHEDULED_ARRIVAL`, `ARRIVAL_TIME` **All needed to be converted to string to handle the missed zeros then to DateTime.**\n",
    ">\n",
    ">  * Also we should convert the `DAY_OF_WEEK` column to be string with the day name."
   ]
  },
  {
   "cell_type": "markdown",
   "id": "8f2e3715",
   "metadata": {},
   "source": [
    "> ### 1) Droping the Un-named columns."
   ]
  },
  {
   "cell_type": "code",
   "execution_count": 254,
   "id": "44eac2f5",
   "metadata": {},
   "outputs": [],
   "source": [
    "df.drop(columns=['Unnamed: 0.2', 'Unnamed: 0', 'Unnamed: 0.1'], inplace=True)"
   ]
  },
  {
   "cell_type": "markdown",
   "id": "cce049eb",
   "metadata": {},
   "source": [
    "> ### 2) Cleaning the `CANCELLATION_REASON` column."
   ]
  },
  {
   "cell_type": "code",
   "execution_count": 255,
   "id": "754ab29f",
   "metadata": {},
   "outputs": [
    {
     "data": {
      "text/plain": [
       "B    2397\n",
       "A    1260\n",
       "C     776\n",
       "Name: CANCELLATION_REASON, dtype: int64"
      ]
     },
     "execution_count": 255,
     "metadata": {},
     "output_type": "execute_result"
    }
   ],
   "source": [
    "df.CANCELLATION_REASON.value_counts()"
   ]
  },
  {
   "cell_type": "markdown",
   "id": "efd11b23",
   "metadata": {},
   "source": [
    "> Now we need to replace these values with readable reasons and give the reason of \"Security\" to the Nulls."
   ]
  },
  {
   "cell_type": "code",
   "execution_count": 256,
   "id": "d0065f07",
   "metadata": {},
   "outputs": [],
   "source": [
    "def get_reasons(reason):\n",
    "    if reason == \"A\":\n",
    "        return \"Airline/Carrier\"\n",
    "    elif reason == \"B\":\n",
    "        return \"Weather\"\n",
    "    elif reason == \"C\":\n",
    "        return \"National Air System\"\n",
    "    else:\n",
    "        return \"Security\""
   ]
  },
  {
   "cell_type": "code",
   "execution_count": 257,
   "id": "c92a4a0e",
   "metadata": {},
   "outputs": [
    {
     "data": {
      "text/plain": [
       "Security               270531\n",
       "Weather                  2397\n",
       "Airline/Carrier          1260\n",
       "National Air System       776\n",
       "Name: CANCELLATION_REASON, dtype: int64"
      ]
     },
     "execution_count": 257,
     "metadata": {},
     "output_type": "execute_result"
    }
   ],
   "source": [
    "df['CANCELLATION_REASON'] = df.CANCELLATION_REASON.apply(lambda reason: get_reasons(reason))\n",
    "df.CANCELLATION_REASON.value_counts()"
   ]
  },
  {
   "cell_type": "markdown",
   "id": "0f4eb948",
   "metadata": {},
   "source": [
    "### 3) Operating with Null values from columns."
   ]
  },
  {
   "cell_type": "code",
   "execution_count": 258,
   "id": "0546fa47",
   "metadata": {},
   "outputs": [
    {
     "data": {
      "text/plain": [
       "YEAR                        0\n",
       "MONTH                       0\n",
       "DAY                         0\n",
       "DAY_OF_WEEK                 0\n",
       "AIRLINE                     0\n",
       "FLIGHT_NUMBER               0\n",
       "TAIL_NUMBER               739\n",
       "ORIGIN_AIRPORT              0\n",
       "DESTINATION_AIRPORT         0\n",
       "SCHEDULED_DEPARTURE         0\n",
       "DEPARTURE_TIME           4245\n",
       "DEPARTURE_DELAY          4245\n",
       "TAXI_OUT                 4393\n",
       "WHEELS_OFF               4393\n",
       "SCHEDULED_TIME              0\n",
       "ELAPSED_TIME             5191\n",
       "AIR_TIME                 5191\n",
       "DISTANCE                    0\n",
       "WHEELS_ON                4587\n",
       "TAXI_IN                  4587\n",
       "SCHEDULED_ARRIVAL           0\n",
       "ARRIVAL_TIME             4587\n",
       "ARRIVAL_DELAY            5191\n",
       "DIVERTED                    0\n",
       "CANCELLED                   0\n",
       "CANCELLATION_REASON         0\n",
       "AIR_SYSTEM_DELAY       223101\n",
       "SECURITY_DELAY         223101\n",
       "AIRLINE_DELAY          223101\n",
       "LATE_AIRCRAFT_DELAY    223101\n",
       "WEATHER_DELAY          223101\n",
       "dtype: int64"
      ]
     },
     "execution_count": 258,
     "metadata": {},
     "output_type": "execute_result"
    }
   ],
   "source": [
    "df.isnull().sum()"
   ]
  },
  {
   "cell_type": "markdown",
   "id": "9f701d3b",
   "metadata": {},
   "source": [
    "> We will drop the columns that has more than 10,000 Null values. **They are the last 5 columns.**"
   ]
  },
  {
   "cell_type": "code",
   "execution_count": 259,
   "id": "37748268",
   "metadata": {},
   "outputs": [
    {
     "data": {
      "text/html": [
       "<div>\n",
       "<style scoped>\n",
       "    .dataframe tbody tr th:only-of-type {\n",
       "        vertical-align: middle;\n",
       "    }\n",
       "\n",
       "    .dataframe tbody tr th {\n",
       "        vertical-align: top;\n",
       "    }\n",
       "\n",
       "    .dataframe thead th {\n",
       "        text-align: right;\n",
       "    }\n",
       "</style>\n",
       "<table border=\"1\" class=\"dataframe\">\n",
       "  <thead>\n",
       "    <tr style=\"text-align: right;\">\n",
       "      <th></th>\n",
       "      <th>YEAR</th>\n",
       "      <th>MONTH</th>\n",
       "      <th>DAY</th>\n",
       "      <th>DAY_OF_WEEK</th>\n",
       "      <th>AIRLINE</th>\n",
       "      <th>FLIGHT_NUMBER</th>\n",
       "      <th>TAIL_NUMBER</th>\n",
       "      <th>ORIGIN_AIRPORT</th>\n",
       "      <th>DESTINATION_AIRPORT</th>\n",
       "      <th>SCHEDULED_DEPARTURE</th>\n",
       "      <th>DEPARTURE_TIME</th>\n",
       "      <th>DEPARTURE_DELAY</th>\n",
       "      <th>TAXI_OUT</th>\n",
       "      <th>WHEELS_OFF</th>\n",
       "      <th>SCHEDULED_TIME</th>\n",
       "      <th>ELAPSED_TIME</th>\n",
       "      <th>AIR_TIME</th>\n",
       "      <th>DISTANCE</th>\n",
       "      <th>WHEELS_ON</th>\n",
       "      <th>TAXI_IN</th>\n",
       "      <th>SCHEDULED_ARRIVAL</th>\n",
       "      <th>ARRIVAL_TIME</th>\n",
       "      <th>ARRIVAL_DELAY</th>\n",
       "      <th>DIVERTED</th>\n",
       "      <th>CANCELLED</th>\n",
       "      <th>CANCELLATION_REASON</th>\n",
       "    </tr>\n",
       "  </thead>\n",
       "  <tbody>\n",
       "    <tr>\n",
       "      <th>0</th>\n",
       "      <td>2015</td>\n",
       "      <td>11</td>\n",
       "      <td>28</td>\n",
       "      <td>6</td>\n",
       "      <td>DL</td>\n",
       "      <td>1590</td>\n",
       "      <td>N971AT</td>\n",
       "      <td>CAE</td>\n",
       "      <td>ATL</td>\n",
       "      <td>700</td>\n",
       "      <td>655.0</td>\n",
       "      <td>-5.0</td>\n",
       "      <td>17.0</td>\n",
       "      <td>712.0</td>\n",
       "      <td>68.0</td>\n",
       "      <td>61.0</td>\n",
       "      <td>39.0</td>\n",
       "      <td>192</td>\n",
       "      <td>751.0</td>\n",
       "      <td>5.0</td>\n",
       "      <td>808</td>\n",
       "      <td>756.0</td>\n",
       "      <td>-12.0</td>\n",
       "      <td>0</td>\n",
       "      <td>0</td>\n",
       "      <td>Security</td>\n",
       "    </tr>\n",
       "  </tbody>\n",
       "</table>\n",
       "</div>"
      ],
      "text/plain": [
       "   YEAR  MONTH  DAY  DAY_OF_WEEK AIRLINE  FLIGHT_NUMBER TAIL_NUMBER  \\\n",
       "0  2015     11   28            6      DL           1590      N971AT   \n",
       "\n",
       "  ORIGIN_AIRPORT DESTINATION_AIRPORT  SCHEDULED_DEPARTURE  DEPARTURE_TIME  \\\n",
       "0            CAE                 ATL                  700           655.0   \n",
       "\n",
       "   DEPARTURE_DELAY  TAXI_OUT  WHEELS_OFF  SCHEDULED_TIME  ELAPSED_TIME  \\\n",
       "0             -5.0      17.0       712.0            68.0          61.0   \n",
       "\n",
       "   AIR_TIME  DISTANCE  WHEELS_ON  TAXI_IN  SCHEDULED_ARRIVAL  ARRIVAL_TIME  \\\n",
       "0      39.0       192      751.0      5.0                808         756.0   \n",
       "\n",
       "   ARRIVAL_DELAY  DIVERTED  CANCELLED CANCELLATION_REASON  \n",
       "0          -12.0         0          0            Security  "
      ]
     },
     "execution_count": 259,
     "metadata": {},
     "output_type": "execute_result"
    }
   ],
   "source": [
    "needed_columns = df.columns[range(-5, 0, 1)]\n",
    "df.drop(columns= needed_columns, inplace=True)\n",
    "df.head(1)"
   ]
  },
  {
   "cell_type": "markdown",
   "id": "73fa7dc9",
   "metadata": {},
   "source": [
    "> Droping rows that has null values in `AIR_TIME` column as now it has the most null values but we need it."
   ]
  },
  {
   "cell_type": "code",
   "execution_count": 260,
   "id": "4ac55943",
   "metadata": {},
   "outputs": [
    {
     "name": "stdout",
     "output_type": "stream",
     "text": [
      "Number of null values now is:  0\n"
     ]
    }
   ],
   "source": [
    "df = df[df.AIR_TIME.isnull() == False]\n",
    "print('Number of null values now is: ', df.isnull().sum().sum())"
   ]
  },
  {
   "cell_type": "markdown",
   "id": "f0fdfb5d",
   "metadata": {},
   "source": [
    "### Cleaning time columns\n",
    "`SCHEDULED_DEPARTURE`, `DEPARTURE_TIME`, `SCHEDULED_TIME`, `ELAPSED_TIME`, `AIR_TIME`, `SCHEDULED_ARRIVAL`, `ARRIVAL_TIME` \n",
    "\n",
    "> We need to make them on the format **YYYY/MM/DD HH:MM** so:"
   ]
  },
  {
   "cell_type": "code",
   "execution_count": 261,
   "id": "279a21b5",
   "metadata": {},
   "outputs": [
    {
     "data": {
      "text/html": [
       "<div>\n",
       "<style scoped>\n",
       "    .dataframe tbody tr th:only-of-type {\n",
       "        vertical-align: middle;\n",
       "    }\n",
       "\n",
       "    .dataframe tbody tr th {\n",
       "        vertical-align: top;\n",
       "    }\n",
       "\n",
       "    .dataframe thead th {\n",
       "        text-align: right;\n",
       "    }\n",
       "</style>\n",
       "<table border=\"1\" class=\"dataframe\">\n",
       "  <thead>\n",
       "    <tr style=\"text-align: right;\">\n",
       "      <th></th>\n",
       "      <th>YEAR</th>\n",
       "      <th>MONTH</th>\n",
       "      <th>DAY</th>\n",
       "      <th>DAY_OF_WEEK</th>\n",
       "      <th>AIRLINE</th>\n",
       "      <th>FLIGHT_NUMBER</th>\n",
       "      <th>TAIL_NUMBER</th>\n",
       "      <th>ORIGIN_AIRPORT</th>\n",
       "      <th>DESTINATION_AIRPORT</th>\n",
       "      <th>SCHEDULED_DEPARTURE</th>\n",
       "      <th>DEPARTURE_TIME</th>\n",
       "      <th>DEPARTURE_DELAY</th>\n",
       "      <th>TAXI_OUT</th>\n",
       "      <th>WHEELS_OFF</th>\n",
       "      <th>SCHEDULED_TIME</th>\n",
       "      <th>ELAPSED_TIME</th>\n",
       "      <th>AIR_TIME</th>\n",
       "      <th>DISTANCE</th>\n",
       "      <th>WHEELS_ON</th>\n",
       "      <th>TAXI_IN</th>\n",
       "      <th>SCHEDULED_ARRIVAL</th>\n",
       "      <th>ARRIVAL_TIME</th>\n",
       "      <th>ARRIVAL_DELAY</th>\n",
       "      <th>DIVERTED</th>\n",
       "      <th>CANCELLED</th>\n",
       "      <th>CANCELLATION_REASON</th>\n",
       "    </tr>\n",
       "  </thead>\n",
       "  <tbody>\n",
       "    <tr>\n",
       "      <th>0</th>\n",
       "      <td>2015</td>\n",
       "      <td>11</td>\n",
       "      <td>28</td>\n",
       "      <td>6</td>\n",
       "      <td>DL</td>\n",
       "      <td>1590</td>\n",
       "      <td>N971AT</td>\n",
       "      <td>CAE</td>\n",
       "      <td>ATL</td>\n",
       "      <td>700</td>\n",
       "      <td>655.0</td>\n",
       "      <td>-5.0</td>\n",
       "      <td>17.0</td>\n",
       "      <td>712.0</td>\n",
       "      <td>68.0</td>\n",
       "      <td>61.0</td>\n",
       "      <td>39.0</td>\n",
       "      <td>192</td>\n",
       "      <td>751.0</td>\n",
       "      <td>5.0</td>\n",
       "      <td>808</td>\n",
       "      <td>756.0</td>\n",
       "      <td>-12.0</td>\n",
       "      <td>0</td>\n",
       "      <td>0</td>\n",
       "      <td>Security</td>\n",
       "    </tr>\n",
       "    <tr>\n",
       "      <th>1</th>\n",
       "      <td>2015</td>\n",
       "      <td>11</td>\n",
       "      <td>2</td>\n",
       "      <td>1</td>\n",
       "      <td>AA</td>\n",
       "      <td>2516</td>\n",
       "      <td>N3CVAA</td>\n",
       "      <td>ORD</td>\n",
       "      <td>DEN</td>\n",
       "      <td>1715</td>\n",
       "      <td>1743.0</td>\n",
       "      <td>28.0</td>\n",
       "      <td>40.0</td>\n",
       "      <td>1823.0</td>\n",
       "      <td>164.0</td>\n",
       "      <td>177.0</td>\n",
       "      <td>126.0</td>\n",
       "      <td>888</td>\n",
       "      <td>1929.0</td>\n",
       "      <td>11.0</td>\n",
       "      <td>1859</td>\n",
       "      <td>1940.0</td>\n",
       "      <td>41.0</td>\n",
       "      <td>0</td>\n",
       "      <td>0</td>\n",
       "      <td>Security</td>\n",
       "    </tr>\n",
       "  </tbody>\n",
       "</table>\n",
       "</div>"
      ],
      "text/plain": [
       "   YEAR  MONTH  DAY  DAY_OF_WEEK AIRLINE  FLIGHT_NUMBER TAIL_NUMBER  \\\n",
       "0  2015     11   28            6      DL           1590      N971AT   \n",
       "1  2015     11    2            1      AA           2516      N3CVAA   \n",
       "\n",
       "  ORIGIN_AIRPORT DESTINATION_AIRPORT  SCHEDULED_DEPARTURE  DEPARTURE_TIME  \\\n",
       "0            CAE                 ATL                  700           655.0   \n",
       "1            ORD                 DEN                 1715          1743.0   \n",
       "\n",
       "   DEPARTURE_DELAY  TAXI_OUT  WHEELS_OFF  SCHEDULED_TIME  ELAPSED_TIME  \\\n",
       "0             -5.0      17.0       712.0            68.0          61.0   \n",
       "1             28.0      40.0      1823.0           164.0         177.0   \n",
       "\n",
       "   AIR_TIME  DISTANCE  WHEELS_ON  TAXI_IN  SCHEDULED_ARRIVAL  ARRIVAL_TIME  \\\n",
       "0      39.0       192      751.0      5.0                808         756.0   \n",
       "1     126.0       888     1929.0     11.0               1859        1940.0   \n",
       "\n",
       "   ARRIVAL_DELAY  DIVERTED  CANCELLED CANCELLATION_REASON  \n",
       "0          -12.0         0          0            Security  \n",
       "1           41.0         0          0            Security  "
      ]
     },
     "execution_count": 261,
     "metadata": {},
     "output_type": "execute_result"
    }
   ],
   "source": [
    "df.head(2)"
   ]
  },
  {
   "cell_type": "markdown",
   "id": "4412f480",
   "metadata": {},
   "source": [
    "> First we need to get the Date part for each row ... so we will concatinate the first 3 columns to get one column called `DATE`."
   ]
  },
  {
   "cell_type": "code",
   "execution_count": 262,
   "id": "922f0dba",
   "metadata": {},
   "outputs": [
    {
     "data": {
      "text/plain": [
       "0    2015/11/28\n",
       "1     2015/11/2\n",
       "2     2015/8/22\n",
       "3     2015/11/9\n",
       "4     2015/6/12\n",
       "Name: DATE, dtype: object"
      ]
     },
     "execution_count": 262,
     "metadata": {},
     "output_type": "execute_result"
    }
   ],
   "source": [
    "Date_Columns = df.columns[range(0,3, 1)] # getting the columns YEAR, MONTH, DAY\n",
    "\n",
    "# Converting them to str to concatinating them with each other in one column called \"DATE\"\n",
    "for column in Date_Columns:\n",
    "    df[column] = df[column].astype(str)\n",
    "\n",
    "df['DATE'] = df['YEAR'] + '/' + df['MONTH'] + '/' + df['DAY']\n",
    "df.DATE.head()"
   ]
  },
  {
   "cell_type": "markdown",
   "id": "b21df657",
   "metadata": {},
   "source": [
    "> **Now we will format at first the time columns to be 'HH:MM'**"
   ]
  },
  {
   "cell_type": "code",
   "execution_count": 263,
   "id": "5ddaa070",
   "metadata": {},
   "outputs": [],
   "source": [
    "# Getting the needed columns names in one place.\n",
    "time_columns = ['SCHEDULED_DEPARTURE', 'DEPARTURE_TIME', 'SCHEDULED_TIME', 'ELAPSED_TIME', 'AIR_TIME', 'SCHEDULED_ARRIVAL', 'ARRIVAL_TIME']"
   ]
  },
  {
   "cell_type": "code",
   "execution_count": 264,
   "id": "d512c44a",
   "metadata": {},
   "outputs": [],
   "source": [
    "def adding_zeros(row_value):\n",
    "    '''\n",
    "    Input: the row value come from the getting_time_form function.\n",
    "    Output: the new format after adding the needed number of zeos\n",
    "    \n",
    "    '''\n",
    "    nedded_number_of_zeors = 4 - len(row_value)\n",
    "    return  '0' *  nedded_number_of_zeors + row_value\n",
    "\n",
    "def getting_time_form(row_val):\n",
    "    '''\n",
    "    \n",
    "    Input: the current value in the column form convert_to_time function\n",
    "    Output: returning it on the format HH : MM, but still string\n",
    "    \n",
    "    '''\n",
    "    value = adding_zeros(row_val)\n",
    "    hours = value[0:2] \n",
    "    minutes = value[2:4] \n",
    "    \n",
    "    # If there is no problms with hours and minutes .. return this time.\n",
    "    if (int(hours) >= 0 and int(hours) < 24) and (int(minutes) >= 0 and int(minutes) < 60):\n",
    "        return hours + ':' + minutes\n",
    "    \n",
    "    # If there is a problem return Null to check if there is a large number or no and decide to drop them.\n",
    "    else:\n",
    "        # we can handel this error by taking the difference between the actual minutes - 60 to be the new minute.\n",
    "        # Also we can handel hours like that.\n",
    "        # But this will make many values unConsistant with each others as these times dependent on each others.\n",
    "        \n",
    "        # So, I will pass these values giving them Null as value.\n",
    "        pass\n",
    "        \n",
    "\n",
    "\n",
    "    \n",
    "    "
   ]
  },
  {
   "cell_type": "code",
   "execution_count": 265,
   "id": "de2419e4",
   "metadata": {},
   "outputs": [
    {
     "data": {
      "text/html": [
       "<div>\n",
       "<style scoped>\n",
       "    .dataframe tbody tr th:only-of-type {\n",
       "        vertical-align: middle;\n",
       "    }\n",
       "\n",
       "    .dataframe tbody tr th {\n",
       "        vertical-align: top;\n",
       "    }\n",
       "\n",
       "    .dataframe thead th {\n",
       "        text-align: right;\n",
       "    }\n",
       "</style>\n",
       "<table border=\"1\" class=\"dataframe\">\n",
       "  <thead>\n",
       "    <tr style=\"text-align: right;\">\n",
       "      <th></th>\n",
       "      <th>SCHEDULED_DEPARTURE</th>\n",
       "      <th>DEPARTURE_TIME</th>\n",
       "      <th>SCHEDULED_TIME</th>\n",
       "      <th>ELAPSED_TIME</th>\n",
       "      <th>AIR_TIME</th>\n",
       "      <th>SCHEDULED_ARRIVAL</th>\n",
       "      <th>ARRIVAL_TIME</th>\n",
       "    </tr>\n",
       "  </thead>\n",
       "  <tbody>\n",
       "    <tr>\n",
       "      <th>0</th>\n",
       "      <td>07:00</td>\n",
       "      <td>06:55</td>\n",
       "      <td>None</td>\n",
       "      <td>None</td>\n",
       "      <td>00:39</td>\n",
       "      <td>08:08</td>\n",
       "      <td>07:56</td>\n",
       "    </tr>\n",
       "    <tr>\n",
       "      <th>1</th>\n",
       "      <td>17:15</td>\n",
       "      <td>17:43</td>\n",
       "      <td>None</td>\n",
       "      <td>None</td>\n",
       "      <td>01:26</td>\n",
       "      <td>18:59</td>\n",
       "      <td>19:40</td>\n",
       "    </tr>\n",
       "  </tbody>\n",
       "</table>\n",
       "</div>"
      ],
      "text/plain": [
       "  SCHEDULED_DEPARTURE DEPARTURE_TIME SCHEDULED_TIME ELAPSED_TIME AIR_TIME  \\\n",
       "0               07:00          06:55           None         None    00:39   \n",
       "1               17:15          17:43           None         None    01:26   \n",
       "\n",
       "  SCHEDULED_ARRIVAL ARRIVAL_TIME  \n",
       "0             08:08        07:56  \n",
       "1             18:59        19:40  "
      ]
     },
     "execution_count": 265,
     "metadata": {},
     "output_type": "execute_result"
    }
   ],
   "source": [
    "for column in time_columns:\n",
    "    df[column] = df[column].astype('int') # to get rid of the decimal sign.\n",
    "    df[column] = df[column].astype('str') # to handel its length and add easily zeros.\n",
    "    \n",
    "    # Converting the value from the shape '####' to the shape 'HH:MM'\n",
    "    df[column] = df[column].apply(lambda val: getting_time_form(val))\n",
    "    \n",
    "df[time_columns].head(2)"
   ]
  },
  {
   "cell_type": "markdown",
   "id": "515f0592",
   "metadata": {},
   "source": [
    "> Now, we check how many Null values. In other words how many not right times."
   ]
  },
  {
   "cell_type": "code",
   "execution_count": 266,
   "id": "3dd580af",
   "metadata": {},
   "outputs": [
    {
     "data": {
      "text/plain": [
       "358702"
      ]
     },
     "execution_count": 266,
     "metadata": {},
     "output_type": "execute_result"
    }
   ],
   "source": [
    "df.isnull().sum().sum()"
   ]
  },
  {
   "cell_type": "code",
   "execution_count": 267,
   "id": "c0e54761",
   "metadata": {},
   "outputs": [
    {
     "data": {
      "text/plain": [
       "7283871"
      ]
     },
     "execution_count": 267,
     "metadata": {},
     "output_type": "execute_result"
    }
   ],
   "source": [
    "df.size"
   ]
  },
  {
   "cell_type": "markdown",
   "id": "29ccee1f",
   "metadata": {},
   "source": [
    "> As our data has more than 7,000,000 row so i prefer to drop all null values."
   ]
  },
  {
   "cell_type": "code",
   "execution_count": 268,
   "id": "66e47ece",
   "metadata": {},
   "outputs": [
    {
     "name": "stdout",
     "output_type": "stream",
     "text": [
      "Number of Null values now in data is: 0\n"
     ]
    }
   ],
   "source": [
    "df = df.dropna()\n",
    "print('Number of Null values now in data is:', df.isnull().sum().sum())"
   ]
  },
  {
   "cell_type": "markdown",
   "id": "8d7150b8",
   "metadata": {},
   "source": [
    "> Now our time columns ready to be compied in the `DATE` column to get the format _YYYY/MM/DD HH:MM_"
   ]
  },
  {
   "cell_type": "code",
   "execution_count": 269,
   "id": "48461522",
   "metadata": {},
   "outputs": [
    {
     "name": "stdout",
     "output_type": "stream",
     "text": [
      "<class 'pandas.core.frame.DataFrame'>\n",
      "Int64Index: 62842 entries, 6 to 274958\n",
      "Data columns (total 27 columns):\n",
      " #   Column               Non-Null Count  Dtype         \n",
      "---  ------               --------------  -----         \n",
      " 0   YEAR                 62842 non-null  object        \n",
      " 1   MONTH                62842 non-null  object        \n",
      " 2   DAY                  62842 non-null  object        \n",
      " 3   DAY_OF_WEEK          62842 non-null  int64         \n",
      " 4   AIRLINE              62842 non-null  object        \n",
      " 5   FLIGHT_NUMBER        62842 non-null  int64         \n",
      " 6   TAIL_NUMBER          62842 non-null  object        \n",
      " 7   ORIGIN_AIRPORT       62842 non-null  object        \n",
      " 8   DESTINATION_AIRPORT  62842 non-null  object        \n",
      " 9   SCHEDULED_DEPARTURE  62842 non-null  datetime64[ns]\n",
      " 10  DEPARTURE_TIME       62842 non-null  datetime64[ns]\n",
      " 11  DEPARTURE_DELAY      62842 non-null  float64       \n",
      " 12  TAXI_OUT             62842 non-null  float64       \n",
      " 13  WHEELS_OFF           62842 non-null  float64       \n",
      " 14  SCHEDULED_TIME       62842 non-null  datetime64[ns]\n",
      " 15  ELAPSED_TIME         62842 non-null  datetime64[ns]\n",
      " 16  AIR_TIME             62842 non-null  datetime64[ns]\n",
      " 17  DISTANCE             62842 non-null  int64         \n",
      " 18  WHEELS_ON            62842 non-null  float64       \n",
      " 19  TAXI_IN              62842 non-null  float64       \n",
      " 20  SCHEDULED_ARRIVAL    62842 non-null  datetime64[ns]\n",
      " 21  ARRIVAL_TIME         62842 non-null  datetime64[ns]\n",
      " 22  ARRIVAL_DELAY        62842 non-null  float64       \n",
      " 23  DIVERTED             62842 non-null  int64         \n",
      " 24  CANCELLED            62842 non-null  int64         \n",
      " 25  CANCELLATION_REASON  62842 non-null  object        \n",
      " 26  DATE                 62842 non-null  object        \n",
      "dtypes: datetime64[ns](7), float64(6), int64(5), object(9)\n",
      "memory usage: 13.4+ MB\n"
     ]
    }
   ],
   "source": [
    "for column in time_columns:\n",
    "    df[column] = df['DATE'] +' '+ df[column]\n",
    "    df[column] = pd.to_datetime(df[column], format=\"%Y/%m/%d %H:%M\")\n",
    "\n",
    "    \n",
    "df.info()"
   ]
  },
  {
   "cell_type": "markdown",
   "id": "1f4b17ce",
   "metadata": {},
   "source": [
    "> Now we converted the time columns to Datetime columns ... Now lets convert the `DAY_OF_WEEK` column to be string with the day name."
   ]
  },
  {
   "cell_type": "code",
   "execution_count": 270,
   "id": "5ba069f2",
   "metadata": {},
   "outputs": [
    {
     "data": {
      "text/plain": [
       "6       Tuesday\n",
       "13    Wednesday\n",
       "15     Thursday\n",
       "20       Friday\n",
       "23       Sunday\n",
       "Name: DAY_OF_WEEK, dtype: object"
      ]
     },
     "execution_count": 270,
     "metadata": {},
     "output_type": "execute_result"
    }
   ],
   "source": [
    "df['DAY_OF_WEEK'] = pd.to_datetime(df.DATE).dt.day_name()\n",
    "df.DAY_OF_WEEK.head()"
   ]
  },
  {
   "cell_type": "markdown",
   "id": "2d2d848a",
   "metadata": {},
   "source": [
    "> ### Now, we can say our work in cleaning the data is done .. Now we will go to TABLEAU to analyse the data \n",
    "\n",
    "> **You can find the repo [here](https://github.com/mo7amed7assan1911/Flight_Delays_USA_TABLEAU)**"
   ]
  },
  {
   "cell_type": "code",
   "execution_count": 271,
   "id": "4bb54489",
   "metadata": {},
   "outputs": [
    {
     "ename": "PermissionError",
     "evalue": "[Errno 13] Permission denied: 'flights_EDITED.csv'",
     "output_type": "error",
     "traceback": [
      "\u001b[1;31m---------------------------------------------------------------------------\u001b[0m",
      "\u001b[1;31mPermissionError\u001b[0m                           Traceback (most recent call last)",
      "Input \u001b[1;32mIn [271]\u001b[0m, in \u001b[0;36m<module>\u001b[1;34m\u001b[0m\n\u001b[1;32m----> 1\u001b[0m \u001b[43mdf\u001b[49m\u001b[38;5;241;43m.\u001b[39;49m\u001b[43mto_csv\u001b[49m\u001b[43m(\u001b[49m\u001b[38;5;124;43m'\u001b[39;49m\u001b[38;5;124;43mflights_EDITED.csv\u001b[39;49m\u001b[38;5;124;43m'\u001b[39;49m\u001b[43m)\u001b[49m\n",
      "File \u001b[1;32mC:\\Python-3.10\\lib\\site-packages\\pandas\\core\\generic.py:3563\u001b[0m, in \u001b[0;36mNDFrame.to_csv\u001b[1;34m(self, path_or_buf, sep, na_rep, float_format, columns, header, index, index_label, mode, encoding, compression, quoting, quotechar, line_terminator, chunksize, date_format, doublequote, escapechar, decimal, errors, storage_options)\u001b[0m\n\u001b[0;32m   3552\u001b[0m df \u001b[38;5;241m=\u001b[39m \u001b[38;5;28mself\u001b[39m \u001b[38;5;28;01mif\u001b[39;00m \u001b[38;5;28misinstance\u001b[39m(\u001b[38;5;28mself\u001b[39m, ABCDataFrame) \u001b[38;5;28;01melse\u001b[39;00m \u001b[38;5;28mself\u001b[39m\u001b[38;5;241m.\u001b[39mto_frame()\n\u001b[0;32m   3554\u001b[0m formatter \u001b[38;5;241m=\u001b[39m DataFrameFormatter(\n\u001b[0;32m   3555\u001b[0m     frame\u001b[38;5;241m=\u001b[39mdf,\n\u001b[0;32m   3556\u001b[0m     header\u001b[38;5;241m=\u001b[39mheader,\n\u001b[1;32m   (...)\u001b[0m\n\u001b[0;32m   3560\u001b[0m     decimal\u001b[38;5;241m=\u001b[39mdecimal,\n\u001b[0;32m   3561\u001b[0m )\n\u001b[1;32m-> 3563\u001b[0m \u001b[38;5;28;01mreturn\u001b[39;00m \u001b[43mDataFrameRenderer\u001b[49m\u001b[43m(\u001b[49m\u001b[43mformatter\u001b[49m\u001b[43m)\u001b[49m\u001b[38;5;241;43m.\u001b[39;49m\u001b[43mto_csv\u001b[49m\u001b[43m(\u001b[49m\n\u001b[0;32m   3564\u001b[0m \u001b[43m    \u001b[49m\u001b[43mpath_or_buf\u001b[49m\u001b[43m,\u001b[49m\n\u001b[0;32m   3565\u001b[0m \u001b[43m    \u001b[49m\u001b[43mline_terminator\u001b[49m\u001b[38;5;241;43m=\u001b[39;49m\u001b[43mline_terminator\u001b[49m\u001b[43m,\u001b[49m\n\u001b[0;32m   3566\u001b[0m \u001b[43m    \u001b[49m\u001b[43msep\u001b[49m\u001b[38;5;241;43m=\u001b[39;49m\u001b[43msep\u001b[49m\u001b[43m,\u001b[49m\n\u001b[0;32m   3567\u001b[0m \u001b[43m    \u001b[49m\u001b[43mencoding\u001b[49m\u001b[38;5;241;43m=\u001b[39;49m\u001b[43mencoding\u001b[49m\u001b[43m,\u001b[49m\n\u001b[0;32m   3568\u001b[0m \u001b[43m    \u001b[49m\u001b[43merrors\u001b[49m\u001b[38;5;241;43m=\u001b[39;49m\u001b[43merrors\u001b[49m\u001b[43m,\u001b[49m\n\u001b[0;32m   3569\u001b[0m \u001b[43m    \u001b[49m\u001b[43mcompression\u001b[49m\u001b[38;5;241;43m=\u001b[39;49m\u001b[43mcompression\u001b[49m\u001b[43m,\u001b[49m\n\u001b[0;32m   3570\u001b[0m \u001b[43m    \u001b[49m\u001b[43mquoting\u001b[49m\u001b[38;5;241;43m=\u001b[39;49m\u001b[43mquoting\u001b[49m\u001b[43m,\u001b[49m\n\u001b[0;32m   3571\u001b[0m \u001b[43m    \u001b[49m\u001b[43mcolumns\u001b[49m\u001b[38;5;241;43m=\u001b[39;49m\u001b[43mcolumns\u001b[49m\u001b[43m,\u001b[49m\n\u001b[0;32m   3572\u001b[0m \u001b[43m    \u001b[49m\u001b[43mindex_label\u001b[49m\u001b[38;5;241;43m=\u001b[39;49m\u001b[43mindex_label\u001b[49m\u001b[43m,\u001b[49m\n\u001b[0;32m   3573\u001b[0m \u001b[43m    \u001b[49m\u001b[43mmode\u001b[49m\u001b[38;5;241;43m=\u001b[39;49m\u001b[43mmode\u001b[49m\u001b[43m,\u001b[49m\n\u001b[0;32m   3574\u001b[0m \u001b[43m    \u001b[49m\u001b[43mchunksize\u001b[49m\u001b[38;5;241;43m=\u001b[39;49m\u001b[43mchunksize\u001b[49m\u001b[43m,\u001b[49m\n\u001b[0;32m   3575\u001b[0m \u001b[43m    \u001b[49m\u001b[43mquotechar\u001b[49m\u001b[38;5;241;43m=\u001b[39;49m\u001b[43mquotechar\u001b[49m\u001b[43m,\u001b[49m\n\u001b[0;32m   3576\u001b[0m \u001b[43m    \u001b[49m\u001b[43mdate_format\u001b[49m\u001b[38;5;241;43m=\u001b[39;49m\u001b[43mdate_format\u001b[49m\u001b[43m,\u001b[49m\n\u001b[0;32m   3577\u001b[0m \u001b[43m    \u001b[49m\u001b[43mdoublequote\u001b[49m\u001b[38;5;241;43m=\u001b[39;49m\u001b[43mdoublequote\u001b[49m\u001b[43m,\u001b[49m\n\u001b[0;32m   3578\u001b[0m \u001b[43m    \u001b[49m\u001b[43mescapechar\u001b[49m\u001b[38;5;241;43m=\u001b[39;49m\u001b[43mescapechar\u001b[49m\u001b[43m,\u001b[49m\n\u001b[0;32m   3579\u001b[0m \u001b[43m    \u001b[49m\u001b[43mstorage_options\u001b[49m\u001b[38;5;241;43m=\u001b[39;49m\u001b[43mstorage_options\u001b[49m\u001b[43m,\u001b[49m\n\u001b[0;32m   3580\u001b[0m \u001b[43m\u001b[49m\u001b[43m)\u001b[49m\n",
      "File \u001b[1;32mC:\\Python-3.10\\lib\\site-packages\\pandas\\io\\formats\\format.py:1180\u001b[0m, in \u001b[0;36mDataFrameRenderer.to_csv\u001b[1;34m(self, path_or_buf, encoding, sep, columns, index_label, mode, compression, quoting, quotechar, line_terminator, chunksize, date_format, doublequote, escapechar, errors, storage_options)\u001b[0m\n\u001b[0;32m   1159\u001b[0m     created_buffer \u001b[38;5;241m=\u001b[39m \u001b[38;5;28;01mFalse\u001b[39;00m\n\u001b[0;32m   1161\u001b[0m csv_formatter \u001b[38;5;241m=\u001b[39m CSVFormatter(\n\u001b[0;32m   1162\u001b[0m     path_or_buf\u001b[38;5;241m=\u001b[39mpath_or_buf,\n\u001b[0;32m   1163\u001b[0m     line_terminator\u001b[38;5;241m=\u001b[39mline_terminator,\n\u001b[1;32m   (...)\u001b[0m\n\u001b[0;32m   1178\u001b[0m     formatter\u001b[38;5;241m=\u001b[39m\u001b[38;5;28mself\u001b[39m\u001b[38;5;241m.\u001b[39mfmt,\n\u001b[0;32m   1179\u001b[0m )\n\u001b[1;32m-> 1180\u001b[0m \u001b[43mcsv_formatter\u001b[49m\u001b[38;5;241;43m.\u001b[39;49m\u001b[43msave\u001b[49m\u001b[43m(\u001b[49m\u001b[43m)\u001b[49m\n\u001b[0;32m   1182\u001b[0m \u001b[38;5;28;01mif\u001b[39;00m created_buffer:\n\u001b[0;32m   1183\u001b[0m     \u001b[38;5;28;01massert\u001b[39;00m \u001b[38;5;28misinstance\u001b[39m(path_or_buf, StringIO)\n",
      "File \u001b[1;32mC:\\Python-3.10\\lib\\site-packages\\pandas\\io\\formats\\csvs.py:241\u001b[0m, in \u001b[0;36mCSVFormatter.save\u001b[1;34m(self)\u001b[0m\n\u001b[0;32m    237\u001b[0m \u001b[38;5;124;03m\"\"\"\u001b[39;00m\n\u001b[0;32m    238\u001b[0m \u001b[38;5;124;03mCreate the writer & save.\u001b[39;00m\n\u001b[0;32m    239\u001b[0m \u001b[38;5;124;03m\"\"\"\u001b[39;00m\n\u001b[0;32m    240\u001b[0m \u001b[38;5;66;03m# apply compression and byte/text conversion\u001b[39;00m\n\u001b[1;32m--> 241\u001b[0m \u001b[38;5;28;01mwith\u001b[39;00m \u001b[43mget_handle\u001b[49m\u001b[43m(\u001b[49m\n\u001b[0;32m    242\u001b[0m \u001b[43m    \u001b[49m\u001b[38;5;28;43mself\u001b[39;49m\u001b[38;5;241;43m.\u001b[39;49m\u001b[43mfilepath_or_buffer\u001b[49m\u001b[43m,\u001b[49m\n\u001b[0;32m    243\u001b[0m \u001b[43m    \u001b[49m\u001b[38;5;28;43mself\u001b[39;49m\u001b[38;5;241;43m.\u001b[39;49m\u001b[43mmode\u001b[49m\u001b[43m,\u001b[49m\n\u001b[0;32m    244\u001b[0m \u001b[43m    \u001b[49m\u001b[43mencoding\u001b[49m\u001b[38;5;241;43m=\u001b[39;49m\u001b[38;5;28;43mself\u001b[39;49m\u001b[38;5;241;43m.\u001b[39;49m\u001b[43mencoding\u001b[49m\u001b[43m,\u001b[49m\n\u001b[0;32m    245\u001b[0m \u001b[43m    \u001b[49m\u001b[43merrors\u001b[49m\u001b[38;5;241;43m=\u001b[39;49m\u001b[38;5;28;43mself\u001b[39;49m\u001b[38;5;241;43m.\u001b[39;49m\u001b[43merrors\u001b[49m\u001b[43m,\u001b[49m\n\u001b[0;32m    246\u001b[0m \u001b[43m    \u001b[49m\u001b[43mcompression\u001b[49m\u001b[38;5;241;43m=\u001b[39;49m\u001b[38;5;28;43mself\u001b[39;49m\u001b[38;5;241;43m.\u001b[39;49m\u001b[43mcompression\u001b[49m\u001b[43m,\u001b[49m\n\u001b[0;32m    247\u001b[0m \u001b[43m    \u001b[49m\u001b[43mstorage_options\u001b[49m\u001b[38;5;241;43m=\u001b[39;49m\u001b[38;5;28;43mself\u001b[39;49m\u001b[38;5;241;43m.\u001b[39;49m\u001b[43mstorage_options\u001b[49m\u001b[43m,\u001b[49m\n\u001b[0;32m    248\u001b[0m \u001b[43m\u001b[49m\u001b[43m)\u001b[49m \u001b[38;5;28;01mas\u001b[39;00m handles:\n\u001b[0;32m    249\u001b[0m \n\u001b[0;32m    250\u001b[0m     \u001b[38;5;66;03m# Note: self.encoding is irrelevant here\u001b[39;00m\n\u001b[0;32m    251\u001b[0m     \u001b[38;5;28mself\u001b[39m\u001b[38;5;241m.\u001b[39mwriter \u001b[38;5;241m=\u001b[39m csvlib\u001b[38;5;241m.\u001b[39mwriter(\n\u001b[0;32m    252\u001b[0m         handles\u001b[38;5;241m.\u001b[39mhandle,\n\u001b[0;32m    253\u001b[0m         lineterminator\u001b[38;5;241m=\u001b[39m\u001b[38;5;28mself\u001b[39m\u001b[38;5;241m.\u001b[39mline_terminator,\n\u001b[1;32m   (...)\u001b[0m\n\u001b[0;32m    258\u001b[0m         quotechar\u001b[38;5;241m=\u001b[39m\u001b[38;5;28mself\u001b[39m\u001b[38;5;241m.\u001b[39mquotechar,\n\u001b[0;32m    259\u001b[0m     )\n\u001b[0;32m    261\u001b[0m     \u001b[38;5;28mself\u001b[39m\u001b[38;5;241m.\u001b[39m_save()\n",
      "File \u001b[1;32mC:\\Python-3.10\\lib\\site-packages\\pandas\\io\\common.py:789\u001b[0m, in \u001b[0;36mget_handle\u001b[1;34m(path_or_buf, mode, encoding, compression, memory_map, is_text, errors, storage_options)\u001b[0m\n\u001b[0;32m    784\u001b[0m \u001b[38;5;28;01melif\u001b[39;00m \u001b[38;5;28misinstance\u001b[39m(handle, \u001b[38;5;28mstr\u001b[39m):\n\u001b[0;32m    785\u001b[0m     \u001b[38;5;66;03m# Check whether the filename is to be opened in binary mode.\u001b[39;00m\n\u001b[0;32m    786\u001b[0m     \u001b[38;5;66;03m# Binary mode does not support 'encoding' and 'newline'.\u001b[39;00m\n\u001b[0;32m    787\u001b[0m     \u001b[38;5;28;01mif\u001b[39;00m ioargs\u001b[38;5;241m.\u001b[39mencoding \u001b[38;5;129;01mand\u001b[39;00m \u001b[38;5;124m\"\u001b[39m\u001b[38;5;124mb\u001b[39m\u001b[38;5;124m\"\u001b[39m \u001b[38;5;129;01mnot\u001b[39;00m \u001b[38;5;129;01min\u001b[39;00m ioargs\u001b[38;5;241m.\u001b[39mmode:\n\u001b[0;32m    788\u001b[0m         \u001b[38;5;66;03m# Encoding\u001b[39;00m\n\u001b[1;32m--> 789\u001b[0m         handle \u001b[38;5;241m=\u001b[39m \u001b[38;5;28;43mopen\u001b[39;49m\u001b[43m(\u001b[49m\n\u001b[0;32m    790\u001b[0m \u001b[43m            \u001b[49m\u001b[43mhandle\u001b[49m\u001b[43m,\u001b[49m\n\u001b[0;32m    791\u001b[0m \u001b[43m            \u001b[49m\u001b[43mioargs\u001b[49m\u001b[38;5;241;43m.\u001b[39;49m\u001b[43mmode\u001b[49m\u001b[43m,\u001b[49m\n\u001b[0;32m    792\u001b[0m \u001b[43m            \u001b[49m\u001b[43mencoding\u001b[49m\u001b[38;5;241;43m=\u001b[39;49m\u001b[43mioargs\u001b[49m\u001b[38;5;241;43m.\u001b[39;49m\u001b[43mencoding\u001b[49m\u001b[43m,\u001b[49m\n\u001b[0;32m    793\u001b[0m \u001b[43m            \u001b[49m\u001b[43merrors\u001b[49m\u001b[38;5;241;43m=\u001b[39;49m\u001b[43merrors\u001b[49m\u001b[43m,\u001b[49m\n\u001b[0;32m    794\u001b[0m \u001b[43m            \u001b[49m\u001b[43mnewline\u001b[49m\u001b[38;5;241;43m=\u001b[39;49m\u001b[38;5;124;43m\"\u001b[39;49m\u001b[38;5;124;43m\"\u001b[39;49m\u001b[43m,\u001b[49m\n\u001b[0;32m    795\u001b[0m \u001b[43m        \u001b[49m\u001b[43m)\u001b[49m\n\u001b[0;32m    796\u001b[0m     \u001b[38;5;28;01melse\u001b[39;00m:\n\u001b[0;32m    797\u001b[0m         \u001b[38;5;66;03m# Binary mode\u001b[39;00m\n\u001b[0;32m    798\u001b[0m         handle \u001b[38;5;241m=\u001b[39m \u001b[38;5;28mopen\u001b[39m(handle, ioargs\u001b[38;5;241m.\u001b[39mmode)\n",
      "\u001b[1;31mPermissionError\u001b[0m: [Errno 13] Permission denied: 'flights_EDITED.csv'"
     ]
    }
   ],
   "source": [
    "df.to_csv('flights_EDITED.csv')"
   ]
  }
 ],
 "metadata": {
  "kernelspec": {
   "display_name": "Python 3 (ipykernel)",
   "language": "python",
   "name": "python3"
  },
  "language_info": {
   "codemirror_mode": {
    "name": "ipython",
    "version": 3
   },
   "file_extension": ".py",
   "mimetype": "text/x-python",
   "name": "python",
   "nbconvert_exporter": "python",
   "pygments_lexer": "ipython3",
   "version": "3.10.0"
  }
 },
 "nbformat": 4,
 "nbformat_minor": 5
}
